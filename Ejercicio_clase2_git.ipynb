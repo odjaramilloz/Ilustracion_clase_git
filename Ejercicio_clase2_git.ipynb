{
 "cells": [
  {
   "cell_type": "markdown",
   "metadata": {},
   "source": [
    "# Ejercicios clase 2 git\n",
    "\n",
    "Este cuaderno de python es creado con el fin de ilustrar el método de fork y pull request. "
   ]
  },
  {
   "cell_type": "markdown",
   "metadata": {},
   "source": [
    "# 1\n",
    "La sucesión de Fibonacci se define de la siguiente forma: a1=1, a2=1 y an=an-1+an-2 para n>2, es decir los dos primeros son 1 y el resto cada uno es la suma de los dos anteriores, los primeros son: 1, 1, 2, 3, 5, 8, 13, 21, ... Hacer un diagrama de flujo para calcular el Nésimo término de la sucesión.\n",
    "\n",
    "# 2 \n",
    "Elabora un programa que solicite la medida en Pies y realice la conversión a pulgadas, yardas, cm y metros. Toma en cuenta que un pie tiene 12 pulgadas y una pulgada equivale a 2.54 cm.\n",
    "\n",
    "# 3\n",
    "Escribir un programa que pregunte al usuario su nombre, edad, dirección y teléfono y lo guarde en un diccionario. Después debe mostrar por pantalla el mensaje <nombre> tiene <edad> años, vive en <dirección> y su número de teléfono es <teléfono>.\n",
    "    \n",
    "# 4\n",
    "Escribir un programa que cree un diccionario vacío y lo vaya llenado con información sobre una persona (por ejemplo nombre, edad, sexo, teléfono, correo electrónico, etc.) que se le pida al usuario. Cada vez que se añada un nuevo dato debe imprimirse el contenido del diccionario.\n",
    "    \n",
    "# 5\n",
    "Escribir una función que tenga la capacidad de convertir unidades de longitud (al menos 5 distintas unidades), de temperatura (celcius, fahrenheit, kelvin) y masa (al menos 3 distintas unidades). La función debe de recibir tres argumentos. El primero será un string especificando si se desea hacer una conversión de longitud, temperatura o masa. El segundo será otro string que especica cuál será la unidad que se desea convertir (ejemplo centigrados, kilogramos o kilómetros. Finalmente el tercer argumento será un string que especifica, cuál será la unidad de destino a la que se tiene que convertir. Se debe de implemetar la lógica adecuada para que si se está en la unidad de conversión longitud el tercer argumento esté acorde a las posibilidades de longitud y no de temperatura o masa."
   ]
  },
  {
   "cell_type": "code",
   "execution_count": 3,
   "metadata": {
    "scrolled": false
   },
   "outputs": [
    {
     "data": {
      "text/plain": [
       "['estudiante 1 ejercicio 1',\n",
       " 'estudiante 2 ejercicio 2',\n",
       " 'estudiante 3 ejercicio 3',\n",
       " 'estudiante 4 ejercicio 4',\n",
       " 'estudiante 5 ejercicio 5',\n",
       " 'estudiante 6 ejercicio 1',\n",
       " 'estudiante 7 ejercicio 2',\n",
       " 'estudiante 8 ejercicio 3',\n",
       " 'estudiante 9 ejercicio 4',\n",
       " 'estudiante 10 ejercicio 5',\n",
       " 'estudiante 11 ejercicio 1',\n",
       " 'estudiante 12 ejercicio 2',\n",
       " 'estudiante 13 ejercicio 3',\n",
       " 'estudiante 14 ejercicio 4',\n",
       " 'estudiante 15 ejercicio 5',\n",
       " 'estudiante 16 ejercicio 1',\n",
       " 'estudiante 17 ejercicio 2',\n",
       " 'estudiante 18 ejercicio 3',\n",
       " 'estudiante 19 ejercicio 4',\n",
       " 'estudiante 20 ejercicio 5',\n",
       " 'estudiante 21 ejercicio 1',\n",
       " 'estudiante 22 ejercicio 2',\n",
       " 'estudiante 23 ejercicio 3',\n",
       " 'estudiante 24 ejercicio 4',\n",
       " 'estudiante 25 ejercicio 5',\n",
       " 'estudiante 26 ejercicio 1',\n",
       " 'estudiante 27 ejercicio 2',\n",
       " 'estudiante 28 ejercicio 3',\n",
       " 'estudiante 29 ejercicio 4',\n",
       " 'estudiante 30 ejercicio 5']"
      ]
     },
     "execution_count": 3,
     "metadata": {},
     "output_type": "execute_result"
    }
   ],
   "source": [
    "# Profesor\n",
    "import numpy as np\n",
    "ejercicios = np.tile(np.arange(1,6), 6)\n",
    "estudiantes = np.arange(1, 31)\n",
    "clase = []\n",
    "\n",
    "for est, ejer in zip(estudiantes, ejercicios):\n",
    "    clase.append(f'estudiante {est} ejercicio {ejer}')\n",
    "    \n",
    "clase"
   ]
  },
  {
   "cell_type": "code",
   "execution_count": 1,
   "metadata": {},
   "outputs": [
    {
     "name": "stdout",
     "output_type": "stream",
     "text": [
      "Numero máximo de la sucesión: 1000\n",
      "1 1 2 3 5 8 13 21 34 55 89 144 233 377 610 987 \n"
     ]
    }
   ],
   "source": [
    "# 1 - ejercicio 1\n",
    "# Nombre Francisco Javier Balcazar Orrantia"
   ]
  },
  {
   "cell_type": "code",
   "execution_count": null,
   "metadata": {},
   "outputs": [],
   "source": [
    "# 2 - ejercicio 2\n",
    "# Nombre Carolina Anidsel Casillas García\n",
    "\n",
    "ft = int(input(\"Introduce la medida en pies:\"))\n",
    "inch = int(ft*12)\n",
    "yd = float(inch/36)\n",
    "cm = inch*2.54\n",
    "m = cm/100\n",
    "\n",
    "print(\"pulgadas:\", inch)\n",
    "print(\"yardas:\", yd)\n",
    "print(\"centímetros:\", cm)\n",
    "print(\"metros:\", m)"
   ]
  },
  {
   "cell_type": "code",
   "execution_count": null,
   "metadata": {},
   "outputs": [],
   "source": [
    "# 3 - ejercicio 3\n",
    "# Nombre "
   ]
  },
  {
   "cell_type": "code",
   "execution_count": null,
   "metadata": {},
   "outputs": [],
   "source": [
    "# 4 - ejercicio 4\n",
    "# Nombre Gustavo de Anda Madrigal"
   ]
  },
  {
   "cell_type": "code",
   "execution_count": 4,
   "metadata": {},
   "outputs": [],
   "source": [
    "# 5 - ejercicio 5\n",
    "# Nombre"
   ]
  },
  {
   "cell_type": "code",
   "execution_count": null,
   "metadata": {},
   "outputs": [],
   "source": [
    "# 6 - ejercicio 1\n",
    "# Nombre"
   ]
  },
  {
   "cell_type": "code",
   "execution_count": null,
   "metadata": {},
   "outputs": [],
   "source": [
    "# 7 - ejercicio 2\n",
    "# Nombre"
   ]
  },
  {
   "cell_type": "code",
   "execution_count": null,
   "metadata": {},
   "outputs": [],
   "source": [
    "# 8 - ejercicio 3\n",
    "# Nombre"
   ]
  },
  {
   "cell_type": "code",
   "execution_count": null,
   "metadata": {},
   "outputs": [],
   "source": [
    "# 9 - ejercicio 4\n",
    "# Nombre"
   ]
  },
  {
   "cell_type": "code",
   "execution_count": null,
   "metadata": {},
   "outputs": [],
   "source": [
    "# 10 - ejercicio 5\n",
    "# Nombre"
   ]
  },
  {
   "cell_type": "code",
   "execution_count": 5,
   "metadata": {},
   "outputs": [],
   "source": [
    "# 11 - ejercicio 1\n",
    "# Nombre"
   ]
  },
  {
   "cell_type": "code",
   "execution_count": null,
   "metadata": {},
   "outputs": [],
   "source": [
    "# 12 - ejercicio 2\n",
    "# Nombre"
   ]
  },
  {
   "cell_type": "code",
   "execution_count": 6,
   "metadata": {},
   "outputs": [],
   "source": [
    "# 13 - ejercicio 3\n",
    "# Nombre"
   ]
  },
  {
   "cell_type": "code",
   "execution_count": null,
   "metadata": {},
   "outputs": [],
   "source": [
    "# 14 - ejercicio 4\n",
    "# Nombre"
   ]
  },
  {
   "cell_type": "code",
   "execution_count": null,
   "metadata": {},
   "outputs": [],
   "source": [
    "# 15 - ejercicio 5\n",
    "# Nombre "
   ]
  },
  {
   "cell_type": "code",
   "execution_count": null,
   "metadata": {},
   "outputs": [],
   "source": [
    "# 16 - ejercicio 1\n",
    "# Nombre Samuel Rodríguez Partida\n",
    "a1=1\n",
    "a2=2"
   ]
  },
  {
   "cell_type": "code",
   "execution_count": null,
   "metadata": {},
   "outputs": [],
   "source": [
    "# 17 - ejercicio 2\n",
    "# Nombre"
   ]
  },
  {
   "cell_type": "code",
   "execution_count": 1,
   "metadata": {},
   "outputs": [
    {
     "name": "stdout",
     "output_type": "stream",
     "text": [
      "Escribe tu nombre: Sindy\n",
      "Escribe tu edad: 22\n",
      "Dirección: santa maria 24\n",
      "Telefono: 3332339157\n",
      "Sindy  tiene  22  años, vive en  santa maria 24  y su número de teléfono es  3332339157\n"
     ]
    }
   ],
   "source": [
    "# 18  - ejercicio 3\n",
    "# Nombre Sindy Citlali Sánchez Ponce\n",
    "nombre = input(\"Escribe tu nombre: \")\n",
    "edad = input (\"Escribe tu edad: \")\n",
    "direccion = input(\"Dirección: \")\n",
    "tel = input(\"Telefono: \")\n",
    "dic = {\"Nombre\":nombre,\"Edad\":edad,\"Direccion\":direccion,\"Telefono\":tel}\n",
    "print(dic[\"Nombre\"], \" tiene \", dic[\"Edad\"], \" años, vive en \",dic[\"Direccion\"],\" y su número de teléfono es \",dic[\"Telefono\"])"
   ]
  },
  {
   "cell_type": "code",
   "execution_count": null,
   "metadata": {},
   "outputs": [],
   "source": [
    "# 19 - ejercicio 4\n",
    "# Nombre"
   ]
  },
  {
   "cell_type": "code",
   "execution_count": null,
   "metadata": {},
   "outputs": [],
   "source": [
    "# 20 - ejercicio 5\n",
    "# Nombre"
   ]
  },
  {
   "cell_type": "code",
   "execution_count": 7,
   "metadata": {},
   "outputs": [],
   "source": [
    "# 21 - ejercicio 1\n",
    "# Nombre"
   ]
  },
  {
   "cell_type": "code",
   "execution_count": null,
   "metadata": {},
   "outputs": [],
   "source": [
    "# 22 - ejercicio 2\n",
    "#Nombre"
   ]
  },
  {
   "cell_type": "code",
   "execution_count": null,
   "metadata": {},
   "outputs": [],
   "source": [
    "# 23 - ejercicio 3\n",
    "# Nombre"
   ]
  },
  {
   "cell_type": "code",
   "execution_count": null,
   "metadata": {},
   "outputs": [],
   "source": [
    "# 24 - ejercicio 4\n",
    "# Nombre"
   ]
  },
  {
   "cell_type": "code",
   "execution_count": null,
   "metadata": {},
   "outputs": [],
   "source": [
    "# 25 - ejercicio 5\n",
    "# Nombre"
   ]
  },
  {
   "cell_type": "code",
   "execution_count": null,
   "metadata": {},
   "outputs": [],
   "source": [
    "# 26 - ejercicio 1\n",
    "# Nombre"
   ]
  },
  {
   "cell_type": "code",
   "execution_count": null,
   "metadata": {},
   "outputs": [],
   "source": [
    "# 27 - ejercicio 2\n",
    "# Nombre"
   ]
  },
  {
   "cell_type": "code",
   "execution_count": null,
   "metadata": {},
   "outputs": [],
   "source": [
    "# 28 - ejercicio 3\n",
    "# Nombre"
   ]
  },
  {
   "cell_type": "code",
   "execution_count": null,
   "metadata": {},
   "outputs": [],
   "source": [
    "# 29 - ejercicio 4\n",
    "# Nombre"
   ]
  },
  {
   "cell_type": "code",
   "execution_count": null,
   "metadata": {},
   "outputs": [],
   "source": [
    "# 30 - ejercicio 5\n",
    "# Nombre"
   ]
  }
 ],
 "metadata": {
  "kernelspec": {
   "display_name": "Python 3 (ipykernel)",
   "language": "python",
   "name": "python3"
  },
  "language_info": {
   "codemirror_mode": {
    "name": "ipython",
    "version": 3
   },
   "file_extension": ".py",
   "mimetype": "text/x-python",
   "name": "python",
   "nbconvert_exporter": "python",
   "pygments_lexer": "ipython3",
   "version": "3.9.12"
  }
 },
 "nbformat": 4,
 "nbformat_minor": 4
}
